{
  "nbformat": 4,
  "nbformat_minor": 0,
  "metadata": {
    "colab": {
      "name": "Untitled6.ipynb",
      "provenance": []
    },
    "kernelspec": {
      "name": "python3",
      "display_name": "Python 3"
    },
    "accelerator": "GPU"
  },
  "cells": [
    {
      "cell_type": "code",
      "metadata": {
        "id": "BCUiN63F2Njk",
        "colab_type": "code",
        "colab": {}
      },
      "source": [
        "import torch"
      ],
      "execution_count": 0,
      "outputs": []
    },
    {
      "cell_type": "code",
      "metadata": {
        "id": "iEIf0Mvn2dun",
        "colab_type": "code",
        "colab": {
          "base_uri": "https://localhost:8080/",
          "height": 69
        },
        "outputId": "a1611487-5549-4f00-b089-0cc92aa09c29"
      },
      "source": [
        "x = torch.empty(3, 3)\n",
        "print(x)"
      ],
      "execution_count": 3,
      "outputs": [
        {
          "output_type": "stream",
          "text": [
            "tensor([[6.5990e-36, 0.0000e+00, 3.3631e-44],\n",
            "        [0.0000e+00,        nan, 4.4842e-44],\n",
            "        [1.1578e+27, 1.1362e+30, 7.1547e+22]])\n"
          ],
          "name": "stdout"
        }
      ]
    },
    {
      "cell_type": "code",
      "metadata": {
        "id": "DL4mEsJJ2qpp",
        "colab_type": "code",
        "colab": {
          "base_uri": "https://localhost:8080/",
          "height": 69
        },
        "outputId": "0a990a47-3b91-4b44-b215-7a11ac441538"
      },
      "source": [
        "x = torch.rand(3, 3)\n",
        "print(x)"
      ],
      "execution_count": 4,
      "outputs": [
        {
          "output_type": "stream",
          "text": [
            "tensor([[0.3148, 0.5240, 0.0209],\n",
            "        [0.4237, 0.8674, 0.4590],\n",
            "        [0.1805, 0.5817, 0.0097]])\n"
          ],
          "name": "stdout"
        }
      ]
    },
    {
      "cell_type": "code",
      "metadata": {
        "id": "p1qloToQ2z7s",
        "colab_type": "code",
        "colab": {
          "base_uri": "https://localhost:8080/",
          "height": 69
        },
        "outputId": "91a2f8fe-f7a3-476e-8f6a-2e837a75564e"
      },
      "source": [
        "x = torch.zeros(3, 3, dtype=torch.float32)\n",
        "print(x)"
      ],
      "execution_count": 5,
      "outputs": [
        {
          "output_type": "stream",
          "text": [
            "tensor([[0., 0., 0.],\n",
            "        [0., 0., 0.],\n",
            "        [0., 0., 0.]])\n"
          ],
          "name": "stdout"
        }
      ]
    },
    {
      "cell_type": "code",
      "metadata": {
        "id": "f8OX6IwU2_TY",
        "colab_type": "code",
        "colab": {
          "base_uri": "https://localhost:8080/",
          "height": 34
        },
        "outputId": "a93c9f01-e586-4547-bbe3-7261095207aa"
      },
      "source": [
        "x = torch.tensor([ x for x in range(0, 20) if x % 2 == 0])\n",
        "print(x)"
      ],
      "execution_count": 6,
      "outputs": [
        {
          "output_type": "stream",
          "text": [
            "tensor([ 0,  2,  4,  6,  8, 10, 12, 14, 16, 18])\n"
          ],
          "name": "stdout"
        }
      ]
    },
    {
      "cell_type": "code",
      "metadata": {
        "id": "_TVIhFKm3W_W",
        "colab_type": "code",
        "colab": {
          "base_uri": "https://localhost:8080/",
          "height": 34
        },
        "outputId": "28e46eaa-2c2d-438c-89aa-5ba9a9b69b55"
      },
      "source": [
        "x = x.new_ones(x.size(), dtype=torch.double)\n",
        "print(x)"
      ],
      "execution_count": 7,
      "outputs": [
        {
          "output_type": "stream",
          "text": [
            "tensor([1., 1., 1., 1., 1., 1., 1., 1., 1., 1.], dtype=torch.float64)\n"
          ],
          "name": "stdout"
        }
      ]
    },
    {
      "cell_type": "code",
      "metadata": {
        "id": "v-wXZfJa32uc",
        "colab_type": "code",
        "colab": {
          "base_uri": "https://localhost:8080/",
          "height": 330
        },
        "outputId": "6dc9338e-db1e-47ae-b018-b34343cc2043"
      },
      "source": [
        "y = torch.rand(x.size())\n",
        "print(f'x+y = {x+y}')\n",
        "print(f'x-y = {x-y}')\n",
        "print(f'x*y = {x*y}')\n",
        "print(f'x/y = {x/y}')\n",
        "print()\n",
        "print()\n",
        "print(f'+ = {torch.add(x, y)}\\n- = {torch.sub(x, y)}\\n* = {torch.mul(x, y)}\\n / = {torch.div(x, y)}')"
      ],
      "execution_count": 8,
      "outputs": [
        {
          "output_type": "stream",
          "text": [
            "x+y = tensor([1.0303, 1.8235, 1.5896, 1.5283, 1.1601, 1.3832, 1.5225, 1.8366, 1.9050,\n",
            "        1.3865], dtype=torch.float64)\n",
            "x-y = tensor([0.9697, 0.1765, 0.4104, 0.4717, 0.8399, 0.6168, 0.4775, 0.1634, 0.0950,\n",
            "        0.6135], dtype=torch.float64)\n",
            "x*y = tensor([0.0303, 0.8235, 0.5896, 0.5283, 0.1601, 0.3832, 0.5225, 0.8366, 0.9050,\n",
            "        0.3865], dtype=torch.float64)\n",
            "x/y = tensor([33.0262,  1.2143,  1.6961,  1.8927,  6.2472,  2.6097,  1.9137,  1.1953,\n",
            "         1.1050,  2.5872], dtype=torch.float64)\n",
            "\n",
            "\n",
            "+ = tensor([1.0303, 1.8235, 1.5896, 1.5283, 1.1601, 1.3832, 1.5225, 1.8366, 1.9050,\n",
            "        1.3865], dtype=torch.float64)\n",
            "- = tensor([0.9697, 0.1765, 0.4104, 0.4717, 0.8399, 0.6168, 0.4775, 0.1634, 0.0950,\n",
            "        0.6135], dtype=torch.float64)\n",
            "* = tensor([0.0303, 0.8235, 0.5896, 0.5283, 0.1601, 0.3832, 0.5225, 0.8366, 0.9050,\n",
            "        0.3865], dtype=torch.float64)\n",
            " / = tensor([33.0262,  1.2143,  1.6961,  1.8927,  6.2472,  2.6097,  1.9137,  1.1953,\n",
            "         1.1050,  2.5872], dtype=torch.float64)\n"
          ],
          "name": "stdout"
        }
      ]
    },
    {
      "cell_type": "code",
      "metadata": {
        "id": "LCFvxdHI5NrL",
        "colab_type": "code",
        "colab": {
          "base_uri": "https://localhost:8080/",
          "height": 156
        },
        "outputId": "6fbb7fe3-d571-402e-e230-1a42d3903722"
      },
      "source": [
        "print(f'y+x={y.add_(x)}\\ny-x={y.sub_(x)}\\ny*x={y.mul_(x)}\\ny/x={y.div_(x)}')"
      ],
      "execution_count": 9,
      "outputs": [
        {
          "output_type": "stream",
          "text": [
            "y+x=tensor([1.0303, 1.8235, 1.5896, 1.5283, 1.1601, 1.3832, 1.5225, 1.8366, 1.9050,\n",
            "        1.3865])\n",
            "y-x=tensor([0.0303, 0.8235, 0.5896, 0.5283, 0.1601, 0.3832, 0.5225, 0.8366, 0.9050,\n",
            "        0.3865])\n",
            "y*x=tensor([0.0303, 0.8235, 0.5896, 0.5283, 0.1601, 0.3832, 0.5225, 0.8366, 0.9050,\n",
            "        0.3865])\n",
            "y/x=tensor([0.0303, 0.8235, 0.5896, 0.5283, 0.1601, 0.3832, 0.5225, 0.8366, 0.9050,\n",
            "        0.3865])\n"
          ],
          "name": "stdout"
        }
      ]
    },
    {
      "cell_type": "code",
      "metadata": {
        "id": "Bwr31_Bc56Gj",
        "colab_type": "code",
        "colab": {
          "base_uri": "https://localhost:8080/",
          "height": 34
        },
        "outputId": "6581df8e-ecc4-4b4f-fc9f-8008774a5ab3"
      },
      "source": [
        "print(x[1:])"
      ],
      "execution_count": 10,
      "outputs": [
        {
          "output_type": "stream",
          "text": [
            "tensor([1., 1., 1., 1., 1., 1., 1., 1., 1.], dtype=torch.float64)\n"
          ],
          "name": "stdout"
        }
      ]
    },
    {
      "cell_type": "code",
      "metadata": {
        "id": "SN4QORYa6Fyv",
        "colab_type": "code",
        "colab": {
          "base_uri": "https://localhost:8080/",
          "height": 34
        },
        "outputId": "b08b32ad-ddeb-4c66-8ba5-bb7975701087"
      },
      "source": [
        "x = x.new_ones(4, 4)\n",
        "y = x.view(16)\n",
        "z = x.view(-1, 8)\n",
        "print(x.size(), y.size(), z.size())"
      ],
      "execution_count": 11,
      "outputs": [
        {
          "output_type": "stream",
          "text": [
            "torch.Size([4, 4]) torch.Size([16]) torch.Size([2, 8])\n"
          ],
          "name": "stdout"
        }
      ]
    },
    {
      "cell_type": "code",
      "metadata": {
        "id": "4-iAdAEBFqWM",
        "colab_type": "code",
        "colab": {
          "base_uri": "https://localhost:8080/",
          "height": 225
        },
        "outputId": "cd749f29-0c94-46b8-f491-777078279e6c"
      },
      "source": [
        "b = x.numpy()\n",
        "print(b)\n",
        "x.add_(10)\n",
        "print(x)\n",
        "print(b)"
      ],
      "execution_count": 12,
      "outputs": [
        {
          "output_type": "stream",
          "text": [
            "[[1. 1. 1. 1.]\n",
            " [1. 1. 1. 1.]\n",
            " [1. 1. 1. 1.]\n",
            " [1. 1. 1. 1.]]\n",
            "tensor([[11., 11., 11., 11.],\n",
            "        [11., 11., 11., 11.],\n",
            "        [11., 11., 11., 11.],\n",
            "        [11., 11., 11., 11.]], dtype=torch.float64)\n",
            "[[11. 11. 11. 11.]\n",
            " [11. 11. 11. 11.]\n",
            " [11. 11. 11. 11.]\n",
            " [11. 11. 11. 11.]]\n"
          ],
          "name": "stdout"
        }
      ]
    },
    {
      "cell_type": "code",
      "metadata": {
        "id": "Z-OrXN4HJsd6",
        "colab_type": "code",
        "colab": {
          "base_uri": "https://localhost:8080/",
          "height": 52
        },
        "outputId": "09c91ad3-03a1-4919-d198-c7b0590a0dc6"
      },
      "source": [
        "import numpy as np\n",
        "a = np.zeros(5)\n",
        "b = torch.from_numpy(a)\n",
        "np.add(a, 1, out=a)\n",
        "print(a)\n",
        "print(b)"
      ],
      "execution_count": 13,
      "outputs": [
        {
          "output_type": "stream",
          "text": [
            "[1. 1. 1. 1. 1.]\n",
            "tensor([1., 1., 1., 1., 1.], dtype=torch.float64)\n"
          ],
          "name": "stdout"
        }
      ]
    },
    {
      "cell_type": "code",
      "metadata": {
        "id": "5lSwNDTzKEH2",
        "colab_type": "code",
        "colab": {
          "base_uri": "https://localhost:8080/",
          "height": 156
        },
        "outputId": "f49e5c41-1005-4fe2-b14e-71f019ae6294"
      },
      "source": [
        "if torch.cuda.is_available():\n",
        "    device = torch.device(\"cuda\")         \n",
        "    y = torch.ones_like(x, device=device) \n",
        "    x = x.to(device)                       \n",
        "    z = x + y\n",
        "    print(z)\n",
        "    print(z.to(\"cpu\", torch.double)) "
      ],
      "execution_count": 14,
      "outputs": [
        {
          "output_type": "stream",
          "text": [
            "tensor([[12., 12., 12., 12.],\n",
            "        [12., 12., 12., 12.],\n",
            "        [12., 12., 12., 12.],\n",
            "        [12., 12., 12., 12.]], device='cuda:0', dtype=torch.float64)\n",
            "tensor([[12., 12., 12., 12.],\n",
            "        [12., 12., 12., 12.],\n",
            "        [12., 12., 12., 12.],\n",
            "        [12., 12., 12., 12.]], dtype=torch.float64)\n"
          ],
          "name": "stdout"
        }
      ]
    }
  ]
}